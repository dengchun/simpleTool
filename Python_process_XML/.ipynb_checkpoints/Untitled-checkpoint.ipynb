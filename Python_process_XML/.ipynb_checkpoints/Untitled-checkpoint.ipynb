{
 "cells": [
  {
   "cell_type": "code",
   "execution_count": null,
   "id": "f6a2c7ec",
   "metadata": {},
   "outputs": [],
   "source": [
    "import xml.etree.ElementTree as ET\n",
    "import pandas as pd\n",
    "import re"
   ]
  },
  {
   "cell_type": "code",
   "execution_count": null,
   "id": "504669b4",
   "metadata": {},
   "outputs": [],
   "source": [
    "root = ET.parse(\"pubmed.xml\").getroot()"
   ]
  },
  {
   "cell_type": "code",
   "execution_count": null,
   "id": "7de9cef4",
   "metadata": {},
   "outputs": [],
   "source": [
    "result = []\n",
    "level = 1\n",
    "unique_id = 1"
   ]
  },
  {
   "cell_type": "code",
   "execution_count": null,
   "id": "6c37f02b",
   "metadata": {},
   "outputs": [],
   "source": [
    "def walkData(root_node, level, result_list):\n",
    "    global unique_id\n",
    "    temp_list =[unique_id, level, root_node.tag, root_node.attrib]\n",
    "    if(root_node.text and (not re.match(\"\\n\",root_node.text))):\n",
    "        temp_list.append(root_node.text)\n",
    "    else:\n",
    "        temp_list.append(\" \")\n",
    "    result_list.append(temp_list)\n",
    "    unique_id += 1\n",
    "\n",
    "    #遍历每个子节点\n",
    "    children_node = list(root_node)\n",
    "    if len(children_node) == 0:\n",
    "        return\n",
    "    for child in children_node:\n",
    "        walkData(child, level + 1, result_list)\n",
    "    return"
   ]
  },
  {
   "cell_type": "code",
   "execution_count": null,
   "id": "3dd2d1e3",
   "metadata": {},
   "outputs": [],
   "source": [
    "walkData(root,level,result)"
   ]
  },
  {
   "cell_type": "code",
   "execution_count": null,
   "id": "5e367b7b",
   "metadata": {
    "scrolled": false
   },
   "outputs": [],
   "source": [
    "temp = [\"PubmedArticleSet\",\"PubmedArticle\",\"MedlineCitation\",\"PMID\",\"DateCompleted\",\"Year\",\"Month\",\"Day\",\"DateRevised\",\n",
    "       \"Article\",\"Journal\",\"ISSN\",\"JournalIssue\",\"Issue\",\"PubDate\",\"Title\",\"ISOAbbreviation\",\"ArticleTitle\",\"Pagination\",\n",
    "       \"MedlinePgn\",\"Abstract\",\"AbstractText\",\"MedlineJournalInfo\",\"Country\",\"MedlineTA\",\"NlmUniqueID\",\"ISSNLinking\",\"ChemicalList\",\n",
    "       \"Chemical\",\"RegistryNumber\",\"NameOfSubstance\",\"CitationSubset\",\"MeshHeadingList\",\"MeshHeading\",\"DescriptorName\",\"QualifierName\",\n",
    "       \"NumberOfReferences\",\"PubmedData\",\"History\",\"PubMedPubDate\",\"PublicationStatus\",\"ArticleIdList\",\"ArticleId\",\"AuthorList\",\"Author\",\n",
    "       \"LastName\",\"ForeName\",\"Initials\",\"AffiliationInfo\",\"Affiliation\",\"Language\",\"PublicationTypeList\",\"PublicationType\",\"Hour\",\"Minute\",\"Volume\"]\n",
    "for i in range(len(result)):\n",
    "    print(result[i])\n",
    "    if(i>100):\n",
    "        break"
   ]
  },
  {
   "cell_type": "code",
   "execution_count": null,
   "id": "660a080c",
   "metadata": {},
   "outputs": [],
   "source": [
    "columns = []\n",
    "for i in result:\n",
    "    if(i[2] not in columns):\n",
    "        columns.append(i[2])\n",
    "print(columns)"
   ]
  },
  {
   "cell_type": "code",
   "execution_count": null,
   "id": "bd0234de",
   "metadata": {},
   "outputs": [],
   "source": [
    "value = [[] for i in range(len(columns))]\n",
    "flag = [False for i in range(len(columns))]"
   ]
  },
  {
   "cell_type": "code",
   "execution_count": null,
   "id": "c85f3022",
   "metadata": {},
   "outputs": [],
   "source": [
    "data = dict(zip(columns,value))\n",
    "flag_data = dict(zip(columns,flag))"
   ]
  },
  {
   "cell_type": "code",
   "execution_count": null,
   "id": "ccf4f434",
   "metadata": {},
   "outputs": [],
   "source": [
    "print(data)"
   ]
  },
  {
   "cell_type": "code",
   "execution_count": null,
   "id": "b5bf9df8",
   "metadata": {},
   "outputs": [],
   "source": [
    "\n",
    "skip = [\"AuthorList\",\"Author\",\"LastName\",\"ForeName\",\"Initials\",\"AffiliationInfo\",\"Affiliation\",\"PublicationTypeList\",\"PublicationType\",\"ChemicalList\",\"Chemical\",\n",
    "                 \"RegistryNumber\",\"NameOfSubstance\",\"MeshHeadingList\",\"MeshHeading\",\"DescriptorName\",\"QualifierName\",\"PubMedPubDate\",\"Year\",\"Month\",\"Day\",\"Hour\",\"Minute\",\n",
    "                 \"ArticleIdList\",\"ArticleId\",\"PubmedArticleSet\",\"MedlineCitation\",\"AbstractText\",\"Abstract\"]\n",
    "for i in skip:\n",
    "    data.pop(i)\n",
    "    flag_data.pop(i)\n",
    "Abstract = []\n",
    "count = 1\n",
    "for ind,row in enumerate(result):\n",
    "    if(row[2]==\"PubmedArticle\" and count>10):\n",
    "        for k,v in flag_data.items():\n",
    "            if(v==False):\n",
    "                data[k].append(\"-100\")\n",
    "            else:\n",
    "                flag_data[k] = False\n",
    "        \n",
    "    count+=1\n",
    "    if(row[2] in skip):\n",
    "        continue\n",
    "    \n",
    "    if(len(row[3])>0):\n",
    "        for key in row[3].keys():\n",
    "            if((row[2]+\"_\"+key) not in data.keys()):\n",
    "                data[row[2]+\"_\"+key] = [ row[3][key] ]\n",
    "                flag_data[row[2]+\"_\"+key] = True\n",
    "            else:\n",
    "                data[row[2]+\"_\"+key].append(row[3][key])\n",
    "                flag_data[row[2]+\"_\"+key] = True\n",
    "    if(row[4] != \" \"):\n",
    "        data[row[2]].append(row[4])\n",
    "        flag_data[row[2]] = True"
   ]
  },
  {
   "cell_type": "code",
   "execution_count": null,
   "id": "ef8b7406",
   "metadata": {},
   "outputs": [],
   "source": [
    "i=0\n",
    "for kv in list(data.items()):\n",
    "    i+=1\n",
    "    print(kv[0])\n",
    "    if(i>10):\n",
    "        break"
   ]
  },
  {
   "cell_type": "code",
   "execution_count": null,
   "id": "e76d89fd",
   "metadata": {},
   "outputs": [],
   "source": [
    "print(len(data))\n",
    "leng=[]\n",
    "for kv in list(data.items()):\n",
    "    if(len(kv[1]) not in leng):\n",
    "        leng.append(len(kv[1]))\n",
    "print(leng)"
   ]
  },
  {
   "cell_type": "code",
   "execution_count": null,
   "id": "67a3d65a",
   "metadata": {},
   "outputs": [],
   "source": [
    "df = pd.DataFrame(data)"
   ]
  },
  {
   "cell_type": "code",
   "execution_count": null,
   "id": "56983f32",
   "metadata": {},
   "outputs": [],
   "source": [
    "df = pd.DataFrame(dict([(k, pd.Series(v)) for k, v in data.items()]))"
   ]
  }
 ],
 "metadata": {
  "kernelspec": {
   "display_name": "Python 3",
   "language": "python",
   "name": "python3"
  },
  "language_info": {
   "codemirror_mode": {
    "name": "ipython",
    "version": 3
   },
   "file_extension": ".py",
   "mimetype": "text/x-python",
   "name": "python",
   "nbconvert_exporter": "python",
   "pygments_lexer": "ipython3",
   "version": "3.8.8"
  }
 },
 "nbformat": 4,
 "nbformat_minor": 5
}
