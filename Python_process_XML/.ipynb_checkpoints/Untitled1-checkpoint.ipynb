{
 "cells": [
  {
   "cell_type": "code",
   "execution_count": null,
   "id": "4872d668",
   "metadata": {},
   "outputs": [],
   "source": [
    "import xml.etree.ElementTree as ET\n",
    "import pandas as pd\n",
    "import re\n",
    "root = ET.parse(\"pubmed.xml\").getroot()"
   ]
  },
  {
   "cell_type": "code",
   "execution_count": null,
   "id": "a2c1e5e4",
   "metadata": {},
   "outputs": [],
   "source": [
    "list(root)"
   ]
  },
  {
   "cell_type": "code",
   "execution_count": null,
   "id": "d4ff12a1",
   "metadata": {},
   "outputs": [],
   "source": [
    "print(len(root))"
   ]
  },
  {
   "cell_type": "code",
   "execution_count": null,
   "id": "5a45dd34",
   "metadata": {},
   "outputs": [],
   "source": [
    "def walkData(root,ser):\n",
    "    temp_list = [root.tag,root.attrib]\n",
    "    if(root.text and (not re.match(\"\\n\",root.text))):\n",
    "        temp_list.append(root.text)\n",
    "    else:\n",
    "        temp_list.append(\" \")\n",
    "    \n",
    "    ser.append(temp_list)\n",
    "    children_node = list(root)\n",
    "    if len(children_node) == 0:\n",
    "        return\n",
    "    for child in children_node:\n",
    "        walkData(child, ser)\n",
    "    return\n",
    "resultDataFrame = []\n",
    "resultDataFeame2 = pd.DataFrame([0],columns=[\"PMID\"])\n",
    "flag = 0\n",
    "date = {\"Year\":1,\"Month\":2,\"Day\":3,\"Hour\":4,\"Minute\":5}\n",
    "for PubmedArticle in root:\n",
    "    flag+=1\n",
    "    count = 1\n",
    "    ser = []\n",
    "    walkData(PubmedArticle,ser)\n",
    "    tempser = []\n",
    "    columns = []\n",
    "    data = {}\n",
    "    for ind,i in enumerate(ser):\n",
    "        if(i[0] in date.keys()):\n",
    "            key = ser[ind-date[i[0]]][0]+\"_\"+i[0]\n",
    "            if(key not in columns):\n",
    "                columns.append(key)\n",
    "                data[key] = []\n",
    "                data[key].append(i[2])\n",
    "            else:\n",
    "                data[key].append(i[2])\n",
    "            continue\n",
    "        if(len(i[1])==0 and i[2]==\" \"):\n",
    "            pass\n",
    "        else:\n",
    "            if(len(i[1])==0):\n",
    "                if(i[0] not in columns):\n",
    "                    columns.append(i[0])\n",
    "                    data[i[0]] = []\n",
    "                    data[i[0]].append(i[2])\n",
    "                else:\n",
    "                    data[i[0]].append(i[2])\n",
    "            elif(i[2]==\" \"):\n",
    "                for key in i[1].keys():\n",
    "                    if(i[0]+\"_\"+key not in columns):\n",
    "                        columns.append(i[0]+\"_\"+key)\n",
    "                        data[i[0]+\"_\"+key] = []\n",
    "                        data[i[0]+\"_\"+key].append(i[1][key])\n",
    "                    else:\n",
    "                        data[i[0]+\"_\"+key].append(i[1][key])\n",
    "            else:\n",
    "                if(i[0] not in columns):\n",
    "                    columns.append(i[0])\n",
    "                    data[i[0]] = []\n",
    "                    data[i[0]].append(i[2])\n",
    "                else:\n",
    "                    data[i[0]].append(i[2])\n",
    "                for key in i[1].keys():\n",
    "                    if(i[0]+\"_\"+key not in columns):\n",
    "                        columns.append(i[0]+\"_\"+key)\n",
    "                        data[i[0]+\"_\"+key] = []\n",
    "                        data[i[0]+\"_\"+key].append(i[1][key])\n",
    "                    else:\n",
    "                        data[i[0]+\"_\"+key].append(i[1][key])\n",
    "\n",
    "            tempser.append(i)\n",
    "\n",
    "    temp = {}\n",
    "    for k,v in data.items():\n",
    "        if(len(v)>1):\n",
    "            temp[k] = [v]\n",
    "        else:\n",
    "            temp[k] = v\n",
    "    s = pd.DataFrame(temp)\n",
    "    resultDataFeame2 = pd.concat([resultDataFeame2,s])\n",
    "    if(flag%100==0):\n",
    "        print(flag)\n",
    "        print(resultDataFeame2.shape)"
   ]
  },
  {
   "cell_type": "code",
   "execution_count": null,
   "id": "74e750ff",
   "metadata": {},
   "outputs": [],
   "source": [
    "resultDataFeame2"
   ]
  },
  {
   "cell_type": "code",
   "execution_count": null,
   "id": "5cd42271",
   "metadata": {},
   "outputs": [],
   "source": [
    "result = resultDataFeame2.reset_index(drop=True)\n",
    "result"
   ]
  },
  {
   "cell_type": "code",
   "execution_count": null,
   "id": "38549007",
   "metadata": {},
   "outputs": [],
   "source": [
    "result = result.drop(index=[0,5264])"
   ]
  },
  {
   "cell_type": "code",
   "execution_count": null,
   "id": "b9b8491a",
   "metadata": {},
   "outputs": [],
   "source": [
    "result"
   ]
  },
  {
   "cell_type": "code",
   "execution_count": null,
   "id": "cb8d561a",
   "metadata": {},
   "outputs": [],
   "source": [
    "result['{http://www.w3.org/1998/Math/MathML}mn'].value_counts()"
   ]
  },
  {
   "cell_type": "code",
   "execution_count": null,
   "id": "ace0931e",
   "metadata": {},
   "outputs": [],
   "source": [
    "result = result.drop(columns=[\"{http://www.w3.org/1998/Math/MathML}mn\",\"{http://www.w3.org/1998/Math/MathML}mi\",\"{http://www.w3.org/1998/Math/MathML}mo\"\n",
    "                    ,\"{http://www.w3.org/1998/Math/MathML}mtext\"])"
   ]
  },
  {
   "cell_type": "code",
   "execution_count": null,
   "id": "291fe683",
   "metadata": {},
   "outputs": [],
   "source": [
    "result"
   ]
  },
  {
   "cell_type": "code",
   "execution_count": null,
   "id": "c279c8bf",
   "metadata": {},
   "outputs": [],
   "source": [
    "for i in result.columns:\n",
    "    print(i)"
   ]
  },
  {
   "cell_type": "code",
   "execution_count": null,
   "id": "9d51c451",
   "metadata": {},
   "outputs": [],
   "source": [
    "result = result.drop(columns=[\"i\",\"b\"])"
   ]
  },
  {
   "cell_type": "code",
   "execution_count": null,
   "id": "f3881214",
   "metadata": {},
   "outputs": [],
   "source": [
    "result[\"sub\"].count()"
   ]
  },
  {
   "cell_type": "code",
   "execution_count": null,
   "id": "2d399bfb",
   "metadata": {},
   "outputs": [],
   "source": [
    "result = result.drop(columns=[\"sub\"])"
   ]
  },
  {
   "cell_type": "code",
   "execution_count": null,
   "id": "04ab6d16",
   "metadata": {},
   "outputs": [],
   "source": [
    "for k,v in (result.count()<100).items():\n",
    "    if(v==True):\n",
    "        print(k,v)"
   ]
  },
  {
   "cell_type": "code",
   "execution_count": null,
   "id": "6b2e46ec",
   "metadata": {},
   "outputs": [],
   "source": [
    "result.count() "
   ]
  },
  {
   "cell_type": "code",
   "execution_count": null,
   "id": "c752acfe",
   "metadata": {},
   "outputs": [],
   "source": [
    "result.to_csv(\"pubmed.csv\")"
   ]
  }
 ],
 "metadata": {
  "kernelspec": {
   "display_name": "Python 3",
   "language": "python",
   "name": "python3"
  },
  "language_info": {
   "codemirror_mode": {
    "name": "ipython",
    "version": 3
   },
   "file_extension": ".py",
   "mimetype": "text/x-python",
   "name": "python",
   "nbconvert_exporter": "python",
   "pygments_lexer": "ipython3",
   "version": "3.8.8"
  }
 },
 "nbformat": 4,
 "nbformat_minor": 5
}
