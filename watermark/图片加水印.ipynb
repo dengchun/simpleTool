{
 "cells": [
  {
   "cell_type": "code",
   "execution_count": 2,
   "id": "96e1ceb6",
   "metadata": {},
   "outputs": [
    {
     "name": "stdout",
     "output_type": "stream",
     "text": [
      "Requirement already satisfied: Pillow in c:\\users\\dengchun\\anaconda3\\lib\\site-packages (8.2.0)\n"
     ]
    }
   ],
   "source": [
    "!pip install Pillow"
   ]
  },
  {
   "cell_type": "code",
   "execution_count": 80,
   "id": "cb76f7d0",
   "metadata": {},
   "outputs": [],
   "source": [
    "from PIL import Image, ImageFilter"
   ]
  },
  {
   "cell_type": "code",
   "execution_count": 81,
   "id": "48a9b578",
   "metadata": {},
   "outputs": [],
   "source": [
    "def mix(img1,img2,coordinator):\n",
    "    layer = Image.new('RGBA',img1.size,(0,0,0,0))\n",
    "    layer.paste(img2,coordinator)\n",
    "    out = Image.composite(layer,img1,layer)\n",
    "    return out"
   ]
  },
  {
   "cell_type": "code",
   "execution_count": 82,
   "id": "e57c3504",
   "metadata": {},
   "outputs": [],
   "source": [
    "pos1 = (0,400)\n",
    "pos2 = (454,0)"
   ]
  },
  {
   "cell_type": "code",
   "execution_count": 83,
   "id": "b8dfe718",
   "metadata": {},
   "outputs": [
    {
     "data": {
      "text/plain": [
       "42"
      ]
     },
     "execution_count": 83,
     "metadata": {},
     "output_type": "execute_result"
    }
   ],
   "source": [
    "import os\n",
    "filepath = 'C:\\\\Users\\\\dengchun\\Desktop\\图'\n",
    "filename = os.listdir(filepath)\n",
    "len(filename)"
   ]
  },
  {
   "cell_type": "code",
   "execution_count": 84,
   "id": "29108273",
   "metadata": {},
   "outputs": [
    {
     "name": "stdout",
     "output_type": "stream",
     "text": [
      "40\n"
     ]
    }
   ],
   "source": [
    "filename = filename[2:]\n",
    "print(len(filename))\n",
    "filename.remove('水印.png')"
   ]
  },
  {
   "cell_type": "code",
   "execution_count": 85,
   "id": "289c3051",
   "metadata": {},
   "outputs": [
    {
     "data": {
      "text/plain": [
       "39"
      ]
     },
     "execution_count": 85,
     "metadata": {},
     "output_type": "execute_result"
    }
   ],
   "source": [
    "len(filename)"
   ]
  },
  {
   "cell_type": "code",
   "execution_count": 90,
   "id": "5e1ec9f3",
   "metadata": {},
   "outputs": [],
   "source": [
    "img2 = Image.open('水印.png')\n",
    "for name in filename:\n",
    "    img1 = Image.open(name)\n",
    "    fin1 = mix(img1,img2,pos1)\n",
    "    fin2 = mix(fin1,img2,pos2)\n",
    "    fin2.save('水印/'+name)"
   ]
  },
  {
   "cell_type": "code",
   "execution_count": 62,
   "id": "a0089a84",
   "metadata": {},
   "outputs": [],
   "source": []
  }
 ],
 "metadata": {
  "kernelspec": {
   "display_name": "Python 3",
   "language": "python",
   "name": "python3"
  },
  "language_info": {
   "codemirror_mode": {
    "name": "ipython",
    "version": 3
   },
   "file_extension": ".py",
   "mimetype": "text/x-python",
   "name": "python",
   "nbconvert_exporter": "python",
   "pygments_lexer": "ipython3",
   "version": "3.8.8"
  }
 },
 "nbformat": 4,
 "nbformat_minor": 5
}
